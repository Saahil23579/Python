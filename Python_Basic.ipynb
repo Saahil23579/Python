{
 "cells": [
  {
   "cell_type": "markdown",
   "metadata": {
    "id": "gDOkZouX_AZX"
   },
   "source": []
  },
  {
   "cell_type": "code",
   "execution_count": null,
   "metadata": {
    "id": "U4XPsJHG_DCi"
   },
   "outputs": [],
   "source": [
    "'''\n",
    "*****************Python Basic Questions **********************************************\n",
    "Q1.  What is python and why it it is so popular?\n",
    "     Python is a high-level, interpreted programming language that was created by Guido van Rossum. It is popular because of below reasons :\n",
    "      1. Simplicity and Readability\n",
    "      2. Large and Supportive Community\n",
    "      3. Extensive Libraries and Frame works\n",
    "      4. Cross-Platform Compatibility\n",
    "      5. Wide Range of Applications\n",
    "\n",
    "Q2.  What is an interprator in python?\n",
    "     An interpreter in Python reads, translates, and executes Python code one line at a time, making Python an easy-to-use and flexible language for development.\n",
    "\n",
    "Q3. What are pre defined keywords in python ?\n",
    "    Python keywords are special reserved words that have specific meanings and purposes and can’t be used for anything but those specific purposes.List below:\n",
    "    ['False', 'None', 'True', 'and', 'as', 'assert', 'async', 'await', 'break', 'class', 'continue', 'def', 'del', 'elif', 'else', 'except', 'finally', 'for', 'from', 'global', 'if', 'import', 'in', 'is', 'lambda', 'nonlocal', 'not', 'or', 'pass', 'raise', 'return', 'try', 'while', 'with', 'yield']\n",
    "\n",
    "Q4. Can keywords can be used as a variable name ?\n",
    "    No.\n",
    "\n",
    "Q5. What is mutability in python?\n",
    "    Mutability in Python refers to the ability of an object to be modified after it is created. Python objects can be categorized into two types based on their mutability:\n",
    "    Mutable Objects: These objects can be changed (i.e., modified) after creation. Eg. List ,sets, user defined object.\n",
    "    Immutable Objects: These objects cannot be changed after creation.Eg. Strings, Tuples\n",
    "\n",
    "Q6. Why are lists mutable but tuples are immutable?\n",
    "    Lists value can be modified after creation but this is not true for tuples. That's why list are mutable but tuples are immutable.\n",
    "\n",
    "Q7. What is the difference between \"==\" and \"is\" operato?\n",
    "    In Python, \"==\" and \"is\" are two distinct operators used for different purposes.\n",
    "    \"==\" checks if the values of two objects are equal.Compares the contents of the object.\n",
    "    \"is\" checks if two objects refer to the same memory location.Compares the memory addresses (or identities) of the object.\n",
    "\n",
    "Q8. What are logical operator in python?\n",
    "    In Python, logical operators are used to combine multiple conditions together and evaluate them as a single boolean expression.\n",
    "    There are three types of logical operators in Python: `and`, `or`, and `not`.\n",
    "    and: Returns True if both operands are True. Otherwise, it returns False.\n",
    "    The `and` operator returns `True` if both conditions it is evaluating are true, otherwise it returns `False.\n",
    "    The `or` operator returns `True` if at least one of the conditions it is evaluating is true, otherwise it returns `False.\n",
    "    The `not` operator is a unary operator that negates the value of its operand. It returns `True` if the operand is `False`, and `False` if the operand is `True`.\n",
    "\n",
    "Q9. What is type casting in python?\n",
    "    Type casting (also called type conversion) is the process of converting a value from one data type to another in Python.\n",
    "    Python provides both implicit and explicit type casting methods.\n",
    "\n",
    "Q10. What is the difference between implicit and explicit type casting?\n",
    "    Implicit: Python automatically converts one data type to another during an operation, without the programmer explicitly specifying it.ypically, this occurs when performing operations involving different types where no data loss occurs.\n",
    "    Explicit: The programmer manually converts one data type into another using built-in functions.This is done when implicit conversion isn't available or doesn't suit the programmer's needs.\n",
    "\n",
    "Q11. What is the purpose of conditional statements in Python?\n",
    "     Conditional statements in Python are used to make decisions and execute certain blocks of code based on specified conditions.\n",
    "     Python supports conditional statements such as if, elif , and else to control the flow of execution.\n",
    "\n",
    "Q12. How does the elif statement work?\n",
    "     The elif statement in Python is short for \"else if.\" It is used to check multiple conditions in a sequential manner.\n",
    "     When an if statement evaluates to False, the program proceeds to check the elif conditions in the order they appear.\n",
    "\n",
    "Q13. What is the difference between for and while loops?\n",
    "     For Loop : Iterating over sequences or a fixed number of times. Used when the number of iterations is known. Eg. for i in range(10):\n",
    "     While Loop : Repeating as long as a condition is True. Used when iterations depend on runtime conditions. Eg. while i < 10.\n",
    "\n",
    "Q14. Describe a scenario where a while loop is more suitable than a for loop.\n",
    "     A while loop is more suitable when the number of iterations is not predetermined and depends on a condition that may change dynamically during execution.\n",
    "     For Eg. Suppose user is required to correctly enter answer to particular question in quiz game. As long as his/her answer does not matches the correct one,\n",
    "     programme needs to continue asking the question.\n",
    "                   7 + 3 =  ? (Programme needs to continue asking the question , unless user enters 10, here while loop is preferred)\n",
    "'''"
   ]
  },
  {
   "cell_type": "code",
   "execution_count": 3,
   "metadata": {
    "colab": {
     "base_uri": "https://localhost:8080/"
    },
    "id": "m7TXBq3P9l5n",
    "outputId": "26e72c03-95b3-4eb5-a2b3-11ed50d7e851"
   },
   "outputs": [
    {
     "name": "stdout",
     "output_type": "stream",
     "text": [
      "Hello, World!\n"
     ]
    }
   ],
   "source": [
    "##1. Write a Python program to print \"Hello, World!\"\n",
    "print(\"Hello, World!\")\n"
   ]
  },
  {
   "cell_type": "code",
   "execution_count": 8,
   "metadata": {
    "colab": {
     "base_uri": "https://localhost:8080/"
    },
    "id": "4yCHkYBRAAA5",
    "outputId": "f3b57c46-0f08-4121-91c6-ee8c0b88035b"
   },
   "outputs": [
    {
     "name": "stdout",
     "output_type": "stream",
     "text": [
      "Enter your name Saahil\n",
      "Enter your age 21\n",
      "Your name is Saahil and your age is 21\n"
     ]
    }
   ],
   "source": [
    "##2. Write a Python program that displays your name and age.\n",
    "name = input(\"Enter your name \");\n",
    "age  = input(\"Enter your age \");\n",
    "print(\"Your name is \" + name + \" and your age is \" + age)\n"
   ]
  },
  {
   "cell_type": "code",
   "execution_count": 9,
   "metadata": {
    "colab": {
     "base_uri": "https://localhost:8080/"
    },
    "id": "plP5-rHlA7uH",
    "outputId": "e4a8c925-6626-41e2-9659-eddfbc2a6f44"
   },
   "outputs": [
    {
     "name": "stdout",
     "output_type": "stream",
     "text": [
      "['False', 'None', 'True', 'and', 'as', 'assert', 'async', 'await', 'break', 'class', 'continue', 'def', 'del', 'elif', 'else', 'except', 'finally', 'for', 'from', 'global', 'if', 'import', 'in', 'is', 'lambda', 'nonlocal', 'not', 'or', 'pass', 'raise', 'return', 'try', 'while', 'with', 'yield']\n"
     ]
    }
   ],
   "source": [
    "##3. Write code to print all the pre-defined keywords in Python using the keyword library.\n",
    "import keyword\n",
    "print(keyword.kwlist)\n",
    "\n"
   ]
  },
  {
   "cell_type": "code",
   "execution_count": 13,
   "metadata": {
    "colab": {
     "base_uri": "https://localhost:8080/"
    },
    "id": "mbVXcTDYJsY9",
    "outputId": "ee5c021f-74d2-4513-b6b2-fa5976f4663c"
   },
   "outputs": [
    {
     "name": "stdout",
     "output_type": "stream",
     "text": [
      "Enter a word: is\n",
      "is is a Python keyword.\n"
     ]
    }
   ],
   "source": [
    "##4. Write a program that checks if a given word is a Python keyword.\n",
    "import keyword\n",
    "word = input(\"Enter a word: \")\n",
    "if keyword.iskeyword(word):\n",
    "    print(f\"{word} is a Python keyword.\")\n",
    "else:\n",
    "    print(f\"{word} is not a Python keyword.\")\n",
    "\n"
   ]
  },
  {
   "cell_type": "code",
   "execution_count": null,
   "metadata": {
    "colab": {
     "base_uri": "https://localhost:8080/"
    },
    "id": "HRHxJ0l0KWN2",
    "outputId": "5f9e5ef3-8875-49d1-945b-9509d1b20dba"
   },
   "outputs": [
    {
     "name": "stdout",
     "output_type": "stream",
     "text": [
      "Original list: [1, 2, 3, 4, 5]\n",
      "Modified list: [1, 2, 99, 4, 5]\n",
      "Original tuple: (1, 2, 3, 4, 5)\n",
      "Error when modifying tuple: 'tuple' object does not support item assignment\n"
     ]
    }
   ],
   "source": [
    "##5. Create a list and tuple in Python, and demonstrate how attempting to change an element works differently for each.\n",
    "\n",
    "my_list = [1, 2, 3, 4, 5]\n",
    "my_tuple = (1, 2, 3, 4, 5)\n",
    "\n",
    "\n",
    "print(\"Original list:\", my_list)\n",
    "my_list[2] = 99\n",
    "print(\"Modified list:\", my_list)\n",
    "\n",
    "\n",
    "print(\"Original tuple:\", my_tuple)\n",
    "try:\n",
    "    my_tuple[2] = 99\n",
    "except TypeError as e:\n",
    "    print(\"Error when modifying tuple:\", e)\n",
    "\n"
   ]
  },
  {
   "cell_type": "code",
   "execution_count": 15,
   "metadata": {
    "colab": {
     "base_uri": "https://localhost:8080/"
    },
    "id": "ySsMPjrWNfiW",
    "outputId": "6b979b9e-5e41-4033-af3f-1d3e6b364368"
   },
   "outputs": [
    {
     "name": "stdout",
     "output_type": "stream",
     "text": [
      "Before function call:\n",
      "Mutable: [1, 2, 3]\n",
      "Immutable: 5\n",
      "\n",
      "Inside function (before modification):\n",
      "Mutable: [1, 2, 3]\n",
      "Immutable: 5\n",
      "\n",
      "Inside function (after modification):\n",
      "Mutable: [1, 2, 3, 99]\n",
      "Immutable: 15\n",
      "\n",
      "After function call:\n",
      "Mutable: [1, 2, 3, 99]\n",
      "Immutable: 5\n"
     ]
    }
   ],
   "source": [
    "##6. Write a function to demonstrate the behavior of mutable and immutable arguments.\n",
    "# Function to modify mutable and immutable arguments\n",
    "\n",
    "def demonstrate_behavior(mutable_arg, immutable_arg):\n",
    "\n",
    "    print(\"\\nInside function (before modification):\")\n",
    "    print(\"Mutable:\", mutable_arg)\n",
    "    print(\"Immutable:\", immutable_arg)\n",
    "\n",
    "    mutable_arg.append(99)\n",
    "    immutable_arg += 10\n",
    "\n",
    "    print(\"\\nInside function (after modification):\")\n",
    "    print(\"Mutable:\", mutable_arg)\n",
    "    print(\"Immutable:\", immutable_arg)\n",
    "\n",
    "\n",
    "mutable_example = [1, 2, 3]\n",
    "immutable_example = 5\n",
    "\n",
    "print(\"Before function call:\")\n",
    "print(\"Mutable:\", mutable_example)\n",
    "print(\"Immutable:\", immutable_example)\n",
    "\n",
    "# Call the function\n",
    "demonstrate_behavior(mutable_example, immutable_example)\n",
    "\n",
    "print(\"\\nAfter function call:\")\n",
    "print(\"Mutable:\", mutable_example)\n",
    "print(\"Immutable:\", immutable_example)\n"
   ]
  },
  {
   "cell_type": "code",
   "execution_count": null,
   "metadata": {
    "id": "z-8LZlopPYVn"
   },
   "outputs": [],
   "source": [
    "##7. Write a function to demonstrate the behavior of mutable and immutable arguments.\n",
    "#Duplicate Question"
   ]
  },
  {
   "cell_type": "code",
   "execution_count": 17,
   "metadata": {
    "colab": {
     "base_uri": "https://localhost:8080/"
    },
    "id": "4sIK1EW2Phal",
    "outputId": "89e07de5-6326-46ec-ba6b-deb85c7c4cd1"
   },
   "outputs": [
    {
     "name": "stdout",
     "output_type": "stream",
     "text": [
      "Enter your username: user123\n",
      "Enter your password: pass123\n",
      "Are you an admin? (yes/no): yes\n",
      "Login successful!\n",
      "Welcome, Admin!\n"
     ]
    }
   ],
   "source": [
    "##8. Write a program to demonstrate the use of logical operators.\n",
    "\n",
    "username = input(\"Enter your username: \")\n",
    "password = input(\"Enter your password: \")\n",
    "is_admin = input(\"Are you an admin? (yes/no): \").strip().lower() == \"yes\"\n",
    "\n",
    "valid_username = username == \"user123\"\n",
    "valid_password = password == \"pass123\"\n",
    "\n",
    "if valid_username and valid_password:\n",
    "    print(\"Login successful!\")\n",
    "    # Check if the user is an admin\n",
    "    if is_admin:\n",
    "        print(\"Welcome, Admin!\")\n",
    "    else:\n",
    "        print(\"Welcome, User!\")\n",
    "else:\n",
    "    print(\"Invalid username or password. Access denied.\")\n",
    "\n",
    "if not valid_username and not valid_password:\n",
    "    print(\"Would you like to register as a guest?\")\n"
   ]
  },
  {
   "cell_type": "code",
   "execution_count": 20,
   "metadata": {
    "colab": {
     "base_uri": "https://localhost:8080/"
    },
    "id": "gvFvVnlIRQIF",
    "outputId": "98764041-6e3e-48d7-f226-4597b90e8481"
   },
   "outputs": [
    {
     "name": "stdout",
     "output_type": "stream",
     "text": [
      "Enter a value: 32444444\n",
      "Converted to Integer: 32444444\n",
      "Converted to Float: 32444444.0\n",
      "Converted to Boolean: True\n"
     ]
    }
   ],
   "source": [
    "##9. Write a Python program to convert user input from string to integer, float, and boolean types.\n",
    "\n",
    "user_input = input(\"Enter a value: \")\n",
    "\n",
    "try:\n",
    "    int_value = int(user_input)\n",
    "    print(f\"Converted to Integer: {int_value}\")\n",
    "except ValueError:\n",
    "    print(\"Error: Input cannot be converted to an integer.\")\n",
    "\n",
    "# Converting to float\n",
    "try:\n",
    "    float_value = float(user_input)\n",
    "    print(f\"Converted to Float: {float_value}\")\n",
    "except ValueError:\n",
    "    print(\"Error: Input cannot be converted to a float.\")\n",
    "\n",
    "# Converting to boolean\n",
    "bool_value = user_input.lower() not in (\"\", \"false\", \"0\")\n",
    "print(f\"Converted to Boolean: {bool_value}\")\n"
   ]
  },
  {
   "cell_type": "code",
   "execution_count": 22,
   "metadata": {
    "colab": {
     "base_uri": "https://localhost:8080/"
    },
    "id": "Hfj7xaOlSeYG",
    "outputId": "0f7fa3e6-b4ab-4915-d2fe-f5be13bde8b5"
   },
   "outputs": [
    {
     "name": "stdout",
     "output_type": "stream",
     "text": [
      "Original List: ['1', '2.5', '3', 'True', 'False']\n",
      "Converted to Integers: [1, None, 3, None, None]\n",
      "Converted to Floats: [1.0, 2.5, 3.0, None, None]\n"
     ]
    }
   ],
   "source": [
    "##10. Write code to demonstrate type casting with list elements.\n",
    "# Sample list containing strings\n",
    "sample_list = [\"1\", \"2.5\", \"3\", \"True\", \"False\"]\n",
    "\n",
    "# Convert elements to different types\n",
    "converted_to_int = []   # List to store integers\n",
    "converted_to_float = [] # List to store floats\n",
    "\n",
    "for item in sample_list:\n",
    "    # Convert to integer\n",
    "    try:\n",
    "        converted_to_int.append(int(item))  # Convert to int\n",
    "    except ValueError:\n",
    "        converted_to_int.append(None)  # Append None if conversion fails\n",
    "\n",
    "    # Convert to float\n",
    "    try:\n",
    "        converted_to_float.append(float(item))\n",
    "    except ValueError:\n",
    "        converted_to_float.append(None)\n",
    "\n",
    "\n",
    "\n",
    "# Print results\n",
    "print(\"Original List:\", sample_list)\n",
    "print(\"Converted to Integers:\", converted_to_int)\n",
    "print(\"Converted to Floats:\", converted_to_float)\n",
    "\n"
   ]
  },
  {
   "cell_type": "code",
   "execution_count": 23,
   "metadata": {
    "colab": {
     "base_uri": "https://localhost:8080/"
    },
    "id": "crmB_32STvg1",
    "outputId": "260bc7e3-7f95-4dfc-da10-8400d4b0ab53"
   },
   "outputs": [
    {
     "name": "stdout",
     "output_type": "stream",
     "text": [
      "Enter a number: 8\n",
      "The number is positive.\n"
     ]
    }
   ],
   "source": [
    "##11. Write a program that checks if a number is positive, negative, or zero.\n",
    "num = float(input(\"Enter a number: \"))\n",
    "\n",
    "if num > 0:\n",
    "    print(\"The number is positive.\")\n",
    "elif num < 0:\n",
    "    print(\"The number is negative.\")\n",
    "else:\n",
    "    print(\"The number is zero.\")\n",
    "\n"
   ]
  },
  {
   "cell_type": "code",
   "execution_count": 24,
   "metadata": {
    "colab": {
     "base_uri": "https://localhost:8080/"
    },
    "id": "GoDSphlyUC_O",
    "outputId": "04405e16-3194-4de2-931a-00113a2fcc92"
   },
   "outputs": [
    {
     "name": "stdout",
     "output_type": "stream",
     "text": [
      "1\n",
      "2\n",
      "3\n",
      "4\n",
      "5\n",
      "6\n",
      "7\n",
      "8\n",
      "9\n",
      "10\n"
     ]
    }
   ],
   "source": [
    "##12. Write a for loop to print numbers from 1 to 10.\n",
    "for i in range(1, 11):\n",
    "    print(i)"
   ]
  },
  {
   "cell_type": "code",
   "execution_count": 25,
   "metadata": {
    "colab": {
     "base_uri": "https://localhost:8080/"
    },
    "id": "P4aaUz1wUI2G",
    "outputId": "6a397014-d87f-4fe9-90e4-577e553b76a9"
   },
   "outputs": [
    {
     "name": "stdout",
     "output_type": "stream",
     "text": [
      "The sum of even numbers between 1 and 50 is: 650\n"
     ]
    }
   ],
   "source": [
    "##13. Write a Python program to find the sum of all even numbers between 1 and 50.\n",
    "sum_even = 0\n",
    "for num in range(1, 51):\n",
    "    if num % 2 == 0:\n",
    "        sum_even += num\n",
    "print(\"The sum of even numbers between 1 and 50 is:\", sum_even)\n"
   ]
  },
  {
   "cell_type": "code",
   "execution_count": 30,
   "metadata": {
    "colab": {
     "base_uri": "https://localhost:8080/"
    },
    "id": "_pc5tSo8UUkB",
    "outputId": "0e9cbde2-8e58-446b-ed12-7abacde8974f"
   },
   "outputs": [
    {
     "name": "stdout",
     "output_type": "stream",
     "text": [
      "Enter a string: sdrfghy\n",
      "Reversed string: yhgfrds\n"
     ]
    }
   ],
   "source": [
    "##14. Write a program to reverse a string using a while loop.\n",
    "input_string = input(\"Enter a string: \")\n",
    "reversed_string = \"\"\n",
    "index = len(input_string) - 1\n",
    "\n",
    "while index >= 0:\n",
    "    reversed_string += input_string[index]\n",
    "    index -= 1\n",
    "print(\"Reversed string:\", reversed_string)\n",
    "\n"
   ]
  },
  {
   "cell_type": "code",
   "execution_count": null,
   "metadata": {
    "colab": {
     "base_uri": "https://localhost:8080/"
    },
    "id": "8J7lSAOdUzIv",
    "outputId": "24836a1a-83d5-4e05-b1ab-e10f3c2b9403"
   },
   "outputs": [],
   "source": [
    "\n",
    "##15. Write a Python program to calculate the factorial of a number provided by the user using a while loop.\n",
    "num = int(input(\"Enter a number: \"))\n",
    "factorial = 1\n",
    "current = 1\n",
    "\n",
    "while current <= num:\n",
    "    factorial *= current\n",
    "    current += 1\n",
    "\n",
    "print(f\"The factorial of {num} is {factorial}\")\n",
    "\n"
   ]
  }
 ],
 "metadata": {
  "colab": {
   "provenance": []
  },
  "kernelspec": {
   "display_name": "Python 3",
   "name": "python3"
  },
  "language_info": {
   "codemirror_mode": {
    "name": "ipython",
    "version": 3
   },
   "file_extension": ".py",
   "mimetype": "text/x-python",
   "name": "python",
   "nbconvert_exporter": "python",
   "pygments_lexer": "ipython3",
   "version": "3.13.0"
  }
 },
 "nbformat": 4,
 "nbformat_minor": 0
}
